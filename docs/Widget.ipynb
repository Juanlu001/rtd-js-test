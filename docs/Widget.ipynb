{
 "cells": [
  {
   "cell_type": "markdown",
   "metadata": {},
   "source": [
    "# Widget"
   ]
  },
  {
   "cell_type": "code",
   "execution_count": 1,
   "metadata": {},
   "outputs": [],
   "source": [
    "z = [ 0.,  1.,  2.,  3.,  4.,  5.,  6.,  7.,  8.,  9., 10.]  # np.linspace(0, 10, 11)\n",
    "x = [  # np.cos(z)\n",
    "    1.0,\n",
    "    0.5403023058681398,\n",
    "    -0.4161468365471424,\n",
    "    -0.9899924966004454,\n",
    "    -0.6536436208636119,\n",
    "    0.28366218546322625,\n",
    "    0.960170286650366,\n",
    "    0.7539022543433046,\n",
    "    -0.14550003380861354,\n",
    "    -0.9111302618846769,\n",
    "    -0.8390715290764524\n",
    "]\n",
    "y = [  # np.sin(z)\n",
    "    0.0,\n",
    "    0.8414709848078965,\n",
    "    0.9092974268256817,\n",
    "    0.1411200080598672,\n",
    "    -0.7568024953079282,\n",
    "    -0.9589242746631385,\n",
    "    -0.27941549819892586,\n",
    "    0.6569865987187891,\n",
    "    0.9893582466233818,\n",
    "    0.4121184852417566,\n",
    "    -0.5440211108893698\n",
    "]"
   ]
  },
  {
   "cell_type": "code",
   "execution_count": 2,
   "metadata": {},
   "outputs": [],
   "source": [
    "from plotly.graph_objs import Scatter3d, FigureWidget"
   ]
  },
  {
   "cell_type": "code",
   "execution_count": 3,
   "metadata": {},
   "outputs": [
    {
     "data": {
      "application/vnd.jupyter.widget-view+json": {
       "model_id": "37284a8e8ac140e5901f07c4df15a4a3",
       "version_major": 2,
       "version_minor": 0
      },
      "text/plain": [
       "FigureWidget({\n",
       "    'data': [{'type': 'scatter3d',\n",
       "              'uid': '2ed1c342-bf28-11e8-875a-a0afbda902ef',…"
      ]
     },
     "metadata": {},
     "output_type": "display_data"
    }
   ],
   "source": [
    "trace = Scatter3d(x=x, y=y, z=z)\n",
    "\n",
    "fig = dict(data=[trace])\n",
    "\n",
    "FigureWidget(fig)"
   ]
  },
  {
   "cell_type": "code",
   "execution_count": null,
   "metadata": {},
   "outputs": [],
   "source": []
  }
 ],
 "metadata": {
  "kernelspec": {
   "display_name": "Python 3",
   "language": "python",
   "name": "python3"
  },
  "language_info": {
   "codemirror_mode": {
    "name": "ipython",
    "version": 3
   },
   "file_extension": ".py",
   "mimetype": "text/x-python",
   "name": "python",
   "nbconvert_exporter": "python",
   "pygments_lexer": "ipython3",
   "version": "3.5.2"
  },
  "widgets": {
   "application/vnd.jupyter.widget-state+json": {
    "state": {
     "37284a8e8ac140e5901f07c4df15a4a3": {
      "model_module": "plotlywidget",
      "model_module_version": "^0.3.0",
      "model_name": "FigureModel",
      "state": {
       "_data": [
        {
         "type": "scatter3d",
         "uid": "2ed1c342-bf28-11e8-875a-a0afbda902ef",
         "x": [
          1,
          0.5403023058681398,
          -0.4161468365471424,
          -0.9899924966004454,
          -0.6536436208636119,
          0.28366218546322625,
          0.960170286650366,
          0.7539022543433046,
          -0.14550003380861354,
          -0.9111302618846769,
          -0.8390715290764524
         ],
         "y": [
          0,
          0.8414709848078965,
          0.9092974268256817,
          0.1411200080598672,
          -0.7568024953079282,
          -0.9589242746631385,
          -0.27941549819892586,
          0.6569865987187891,
          0.9893582466233818,
          0.4121184852417566,
          -0.5440211108893698
         ],
         "z": [
          0,
          1,
          2,
          3,
          4,
          5,
          6,
          7,
          8,
          9,
          10
         ]
        }
       ],
       "_js2py_pointsCallback": {},
       "_js2py_relayout": {},
       "_js2py_restyle": {},
       "_js2py_update": {},
       "_py2js_addTraces": {},
       "_py2js_animate": {},
       "_py2js_deleteTraces": {},
       "_py2js_moveTraces": {},
       "_py2js_relayout": {},
       "_py2js_removeLayoutProps": {},
       "_py2js_removeTraceProps": {},
       "_py2js_restyle": {},
       "_py2js_update": {},
       "_view_count": 1
      }
     },
     "c3e09f2d809d48558c5451a7a0395c41": {
      "model_module": "plotlywidget",
      "model_module_version": "^0.3.0",
      "model_name": "FigureModel",
      "state": {
       "_data": [
        {
         "type": "scatter3d",
         "uid": "13ce376a-bf28-11e8-875a-a0afbda902ef",
         "x": [
          1,
          0.5403023058681398,
          -0.4161468365471424,
          -0.9899924966004454,
          -0.6536436208636119,
          0.28366218546322625,
          0.960170286650366,
          0.7539022543433046,
          -0.14550003380861354,
          -0.9111302618846769,
          -0.8390715290764524
         ],
         "y": [
          0,
          0.8414709848078965,
          0.9092974268256817,
          0.1411200080598672,
          -0.7568024953079282,
          -0.9589242746631385,
          -0.27941549819892586,
          0.6569865987187891,
          0.9893582466233818,
          0.4121184852417566,
          -0.5440211108893698
         ],
         "z": [
          0,
          1,
          2,
          3,
          4,
          5,
          6,
          7,
          8,
          9,
          10
         ]
        }
       ],
       "_js2py_pointsCallback": {},
       "_js2py_relayout": {},
       "_js2py_restyle": {},
       "_js2py_update": {},
       "_py2js_addTraces": {},
       "_py2js_animate": {},
       "_py2js_deleteTraces": {},
       "_py2js_moveTraces": {},
       "_py2js_relayout": {},
       "_py2js_removeLayoutProps": {},
       "_py2js_removeTraceProps": {},
       "_py2js_restyle": {},
       "_py2js_update": {},
       "_view_count": 0
      }
     }
    },
    "version_major": 2,
    "version_minor": 0
   }
  }
 },
 "nbformat": 4,
 "nbformat_minor": 2
}
