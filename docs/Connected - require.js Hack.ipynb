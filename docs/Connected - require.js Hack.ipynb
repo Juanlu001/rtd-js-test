{
 "cells": [
  {
   "cell_type": "markdown",
   "metadata": {},
   "source": [
    "# Connected - `require.js` Hack"
   ]
  },
  {
   "cell_type": "code",
   "execution_count": 1,
   "metadata": {},
   "outputs": [
    {
     "data": {
      "text/html": [
       "<script type=\"text/javascript\" src=\"https://cdnjs.cloudflare.com/ajax/libs/require.js/2.1.10/require.min.js\"></script>"
      ],
      "text/plain": [
       "<IPython.core.display.HTML object>"
      ]
     },
     "execution_count": 1,
     "metadata": {},
     "output_type": "execute_result"
    }
   ],
   "source": [
    "# Temporary hack, see\n",
    "# https://github.com/plotly/plotly.py/issues/1033#issuecomment-402894617\n",
    "from IPython.display import HTML\n",
    "HTML('<script type=\"text/javascript\" src=\"https://cdnjs.cloudflare.com/ajax/libs/require.js/2.1.10/require.min.js\"></script>')"
   ]
  },
  {
   "cell_type": "code",
   "execution_count": 2,
   "metadata": {},
   "outputs": [
    {
     "data": {
      "text/html": [
       "<script>requirejs.config({paths: { 'plotly': ['https://cdn.plot.ly/plotly-latest.min']},});if(!window.Plotly) {{require(['plotly'],function(plotly) {window.Plotly=plotly;});}}</script>"
      ],
      "text/vnd.plotly.v1+html": [
       "<script>requirejs.config({paths: { 'plotly': ['https://cdn.plot.ly/plotly-latest.min']},});if(!window.Plotly) {{require(['plotly'],function(plotly) {window.Plotly=plotly;});}}</script>"
      ]
     },
     "metadata": {},
     "output_type": "display_data"
    }
   ],
   "source": [
    "from plotly.offline import init_notebook_mode\n",
    "\n",
    "init_notebook_mode(connected=True)"
   ]
  },
  {
   "cell_type": "code",
   "execution_count": 3,
   "metadata": {},
   "outputs": [],
   "source": [
    "z = [ 0.,  1.,  2.,  3.,  4.,  5.,  6.,  7.,  8.,  9., 10.]  # np.linspace(0, 10, 11)\n",
    "x = [  # np.cos(z)\n",
    "    1.0,\n",
    "    0.5403023058681398,\n",
    "    -0.4161468365471424,\n",
    "    -0.9899924966004454,\n",
    "    -0.6536436208636119,\n",
    "    0.28366218546322625,\n",
    "    0.960170286650366,\n",
    "    0.7539022543433046,\n",
    "    -0.14550003380861354,\n",
    "    -0.9111302618846769,\n",
    "    -0.8390715290764524\n",
    "]\n",
    "y = [  # np.sin(z)\n",
    "    0.0,\n",
    "    0.8414709848078965,\n",
    "    0.9092974268256817,\n",
    "    0.1411200080598672,\n",
    "    -0.7568024953079282,\n",
    "    -0.9589242746631385,\n",
    "    -0.27941549819892586,\n",
    "    0.6569865987187891,\n",
    "    0.9893582466233818,\n",
    "    0.4121184852417566,\n",
    "    -0.5440211108893698\n",
    "]"
   ]
  },
  {
   "cell_type": "code",
   "execution_count": 4,
   "metadata": {},
   "outputs": [],
   "source": [
    "from plotly.offline import iplot\n",
    "from plotly.graph_objs import Scatter3d"
   ]
  },
  {
   "cell_type": "code",
   "execution_count": 5,
   "metadata": {},
   "outputs": [
    {
     "data": {
      "application/vnd.plotly.v1+json": {
       "data": [
        {
         "type": "scatter3d",
         "uid": "8275c710-bf22-11e8-875a-a0afbda902ef",
         "x": [
          1,
          0.5403023058681398,
          -0.4161468365471424,
          -0.9899924966004454,
          -0.6536436208636119,
          0.28366218546322625,
          0.960170286650366,
          0.7539022543433046,
          -0.14550003380861354,
          -0.9111302618846769,
          -0.8390715290764524
         ],
         "y": [
          0,
          0.8414709848078965,
          0.9092974268256817,
          0.1411200080598672,
          -0.7568024953079282,
          -0.9589242746631385,
          -0.27941549819892586,
          0.6569865987187891,
          0.9893582466233818,
          0.4121184852417566,
          -0.5440211108893698
         ],
         "z": [
          0,
          1,
          2,
          3,
          4,
          5,
          6,
          7,
          8,
          9,
          10
         ]
        }
       ],
       "layout": {}
      },
      "text/html": [
       "<div id=\"db622455-d921-466a-8c63-5a32d98dd574\" style=\"height: 525px; width: 100%;\" class=\"plotly-graph-div\"></div><script type=\"text/javascript\">require([\"plotly\"], function(Plotly) { window.PLOTLYENV=window.PLOTLYENV || {};window.PLOTLYENV.BASE_URL=\"https://plot.ly\";Plotly.newPlot(\"db622455-d921-466a-8c63-5a32d98dd574\", [{\"x\": [1.0, 0.5403023058681398, -0.4161468365471424, -0.9899924966004454, -0.6536436208636119, 0.28366218546322625, 0.960170286650366, 0.7539022543433046, -0.14550003380861354, -0.9111302618846769, -0.8390715290764524], \"y\": [0.0, 0.8414709848078965, 0.9092974268256817, 0.1411200080598672, -0.7568024953079282, -0.9589242746631385, -0.27941549819892586, 0.6569865987187891, 0.9893582466233818, 0.4121184852417566, -0.5440211108893698], \"type\": \"scatter3d\", \"z\": [0.0, 1.0, 2.0, 3.0, 4.0, 5.0, 6.0, 7.0, 8.0, 9.0, 10.0], \"uid\": \"8275c711-bf22-11e8-875a-a0afbda902ef\"}], {}, {\"showLink\": true, \"linkText\": \"Export to plot.ly\"})});</script>"
      ],
      "text/vnd.plotly.v1+html": [
       "<div id=\"db622455-d921-466a-8c63-5a32d98dd574\" style=\"height: 525px; width: 100%;\" class=\"plotly-graph-div\"></div><script type=\"text/javascript\">require([\"plotly\"], function(Plotly) { window.PLOTLYENV=window.PLOTLYENV || {};window.PLOTLYENV.BASE_URL=\"https://plot.ly\";Plotly.newPlot(\"db622455-d921-466a-8c63-5a32d98dd574\", [{\"x\": [1.0, 0.5403023058681398, -0.4161468365471424, -0.9899924966004454, -0.6536436208636119, 0.28366218546322625, 0.960170286650366, 0.7539022543433046, -0.14550003380861354, -0.9111302618846769, -0.8390715290764524], \"y\": [0.0, 0.8414709848078965, 0.9092974268256817, 0.1411200080598672, -0.7568024953079282, -0.9589242746631385, -0.27941549819892586, 0.6569865987187891, 0.9893582466233818, 0.4121184852417566, -0.5440211108893698], \"type\": \"scatter3d\", \"z\": [0.0, 1.0, 2.0, 3.0, 4.0, 5.0, 6.0, 7.0, 8.0, 9.0, 10.0], \"uid\": \"8275c711-bf22-11e8-875a-a0afbda902ef\"}], {}, {\"showLink\": true, \"linkText\": \"Export to plot.ly\"})});</script>"
      ]
     },
     "metadata": {},
     "output_type": "display_data"
    }
   ],
   "source": [
    "trace = Scatter3d(x=x, y=y, z=z)\n",
    "\n",
    "fig = dict(data=[trace])\n",
    "\n",
    "iplot(fig)"
   ]
  },
  {
   "cell_type": "code",
   "execution_count": null,
   "metadata": {},
   "outputs": [],
   "source": []
  }
 ],
 "metadata": {
  "kernelspec": {
   "display_name": "Python 3",
   "language": "python",
   "name": "python3"
  },
  "language_info": {
   "codemirror_mode": {
    "name": "ipython",
    "version": 3
   },
   "file_extension": ".py",
   "mimetype": "text/x-python",
   "name": "python",
   "nbconvert_exporter": "python",
   "pygments_lexer": "ipython3",
   "version": "3.5.2"
  }
 },
 "nbformat": 4,
 "nbformat_minor": 2
}
